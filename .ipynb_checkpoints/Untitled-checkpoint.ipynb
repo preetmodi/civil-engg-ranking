{
 "cells": [
  {
   "cell_type": "code",
   "execution_count": 2,
   "metadata": {},
   "outputs": [
    {
     "name": "stdout",
     "output_type": "stream",
     "text": [
      "Collecting re\n"
     ]
    },
    {
     "name": "stderr",
     "output_type": "stream",
     "text": [
      "  Could not find a version that satisfies the requirement re (from versions: )\n",
      "No matching distribution found for re\n"
     ]
    }
   ],
   "source": [
    "!pip install re"
   ]
  },
  {
   "cell_type": "code",
   "execution_count": 10,
   "metadata": {},
   "outputs": [
    {
     "name": "stdout",
     "output_type": "stream",
     "text": [
      "DirState Common Entrance Test Cell\n",
      "Cut Off List of Maharashtra State Candidature Candidates of \n",
      "CAP Round I\n",
      " for Admission to First Year of Four Year Full Time Degree Courses in Engineering and Technology for the Academic \n",
      "Year \n",
      "2019-20Government of Maharashtra6938 - Shree Siddheshwar Women's College Of Engineering Solapur.\n",
      "693824210F - Computer Science and EngineeringStatus:Home University : Dr. Babasaheb Ambedkar Technological University\n",
      ",LonereHome University Seats Allotted to Home University Candidates\n",
      "LOPENHLOBCH  I74809(18.8346864)76958(16.4039020)StageOther Than Home University Seats Allotted to Other Than Home University Candidates\n",
      "LOPENO  I86930(0.6622828)StageOther Than Home University Seats Allotted to Home University Candidates\n",
      "LOPENO  I53389(50.4754387)StageState LevelEWS  I86690(1.1949335)Stage693829310F - Electrical EngineeringStatus:Home University : Dr. Babasaheb Ambedkar Technological University\n",
      ",LonereHome University Seats Allotted to Home University Candidates\n",
      "LOPENH  I50310(55.8309133)Stage1Legends: Starting character G-General, L-Ladies, End character H-Home University, O-Other than Home University,S-State Level, AI- All India Seat. Maharashtra State Seats - Cut Off Indicates Maharashtra State General Merit No\n",
      ".; Figures in bracket Indicates Merit Percentile.\n",
      "446\n"
     ]
    }
   ],
   "source": [
    "import PyPDF2\n",
    "import re\n",
    "\n",
    "# open the pdf file\n",
    "object = PyPDF2.PdfFileReader(\"college_cutoffs.pdf\")\n",
    "\n",
    "# get number of pages\n",
    "NumPages = object.getNumPages()\n",
    "\n",
    "# define keyterms\n",
    "String = \" Savitribai Phule Pune University\"\n",
    "count = 0\n",
    "# extract text and do the search\n",
    "for i in range(0, NumPages-1):\n",
    "    PageObj = object.getPage(i)\n",
    "    \n",
    "    Text = PageObj.extractText() \n",
    "    # print(Text)\n",
    "    ResSearch = re.search(String, Text)\n",
    "    if ResSearch is not None:\n",
    "#         print(\"this is page \" + str(i)) \n",
    "#         print(ResSearch)\n",
    "        count+=1\n",
    "print(Text)\n",
    "print(count)"
   ]
  },
  {
   "cell_type": "code",
   "execution_count": null,
   "metadata": {},
   "outputs": [],
   "source": []
  }
 ],
 "metadata": {
  "kernelspec": {
   "display_name": "Python 3",
   "language": "python",
   "name": "python3"
  },
  "language_info": {
   "codemirror_mode": {
    "name": "ipython",
    "version": 3
   },
   "file_extension": ".py",
   "mimetype": "text/x-python",
   "name": "python",
   "nbconvert_exporter": "python",
   "pygments_lexer": "ipython3",
   "version": "3.7.1"
  }
 },
 "nbformat": 4,
 "nbformat_minor": 2
}
